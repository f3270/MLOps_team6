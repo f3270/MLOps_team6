{
 "cells": [
  {
   "cell_type": "markdown",
   "metadata": {},
   "source": [
    "### Cargamos las librerías"
   ]
  },
  {
   "cell_type": "code",
   "execution_count": null,
   "metadata": {},
   "outputs": [],
   "source": [
    "# Cargando las librerías\n",
    "import os\n",
    "import numpy as np\n",
    "import pandas as pd\n",
    "import matplotlib.pyplot as plt\n",
    "import seaborn as sns"
   ]
  },
  {
   "cell_type": "markdown",
   "metadata": {},
   "source": [
    "### Exploración inicial de los datos"
   ]
  },
  {
   "cell_type": "code",
   "execution_count": null,
   "metadata": {},
   "outputs": [],
   "source": [
    "# Función para cargar y mostrar información básica del dataset\n",
    "def cargar_datos(path):\n",
    "    df = pd.read_csv(path)\n",
    "    print(df.columns)\n",
    "    print(df.shape)\n",
    "    df.info()\n",
    "    return df"
   ]
  },
  {
   "cell_type": "markdown",
   "metadata": {},
   "source": [
    "### Creamos copia del DF"
   ]
  },
  {
   "cell_type": "code",
   "execution_count": null,
   "metadata": {},
   "outputs": [],
   "source": [
    "# Función para crear una copia del DataFrame\n",
    "def crear_copia(df):\n",
    "    return df.copy()"
   ]
  },
  {
   "cell_type": "markdown",
   "metadata": {},
   "source": [
    "### Imputación de valores faltantes en las columnas"
   ]
  },
  {
   "cell_type": "code",
   "execution_count": null,
   "metadata": {},
   "outputs": [],
   "source": [
    "# Función para mostrar y filtrar valores faltantes\n",
    "def mostrar_valores_faltantes(df):\n",
    "    missing_values = df.isnull().sum()\n",
    "    for col, value in missing_values.items():\n",
    "        if value > 0:\n",
    "            print(f'Variable: {col}, Datos faltantes: {value}')\n",
    "\n",
    "# Función para imputar valores (moda para categóricas y mediana para numéricas)\n",
    "def imputar_valores(df, columnas_moda, columnas_mediana):\n",
    "    # Imputar con la moda\n",
    "    for col in columnas_moda:\n",
    "        df[col] = df[col].fillna(df[col].mode()[0])\n",
    "    # Imputar con la mediana\n",
    "    for col in columnas_mediana:\n",
    "        df[col] = df[col].fillna(df[col].median())\n",
    "    return df"
   ]
  },
  {
   "cell_type": "markdown",
   "metadata": {},
   "source": [
    "### Detección de valores erróneos"
   ]
  },
  {
   "cell_type": "code",
   "execution_count": null,
   "metadata": {},
   "outputs": [],
   "source": [
    "# Función para detectar valores erróneos\n",
    "def detect_errors(df, column, rule):\n",
    "    return df[~df[column].apply(rule)]  # Usamos ~ para invertir la lógica"
   ]
  },
  {
   "cell_type": "markdown",
   "metadata": {},
   "source": [
    "### Eliminación de valores erróneos e imputación de la columna específica"
   ]
  },
  {
   "cell_type": "code",
   "execution_count": null,
   "metadata": {},
   "outputs": [],
   "source": [
    "# Función para eliminar valores erróneos e imputar 'time_to_aGvHD_III_IV'\n",
    "def eliminar_e_imputar(df, error_rules):\n",
    "    bmtch_df_clean = df.copy()\n",
    "    indices_a_eliminar = []\n",
    "    \n",
    "    for col, rule in error_rules.items():\n",
    "        if col != 'time_to_aGvHD_III_IV':\n",
    "            errores = detect_errors(bmtch_df_clean, col, rule)\n",
    "            if len(errores) > 0:\n",
    "                print(f\"Variable: {col}, Valores erróneos detectados: {len(errores)}\")\n",
    "                indices_a_eliminar.extend(errores.index.tolist())\n",
    "    \n",
    "    bmtch_df_clean.drop(index=set(indices_a_eliminar), inplace=True)\n",
    "\n",
    "    mediana_aGvHD = bmtch_df_clean.loc[bmtch_df_clean['time_to_aGvHD_III_IV'] != 1000000, 'time_to_aGvHD_III_IV'].median()\n",
    "    bmtch_df_clean['time_to_aGvHD_III_IV'] = bmtch_df_clean['time_to_aGvHD_III_IV'].replace(1000000, mediana_aGvHD)\n",
    "\n",
    "    return bmtch_df_clean"
   ]
  },
  {
   "cell_type": "markdown",
   "metadata": {},
   "source": [
    "### Graficar histogramas de las variables numéricas seleccionadas"
   ]
  },
  {
   "cell_type": "code",
   "execution_count": null,
   "metadata": {},
   "outputs": [],
   "source": [
    "# Función para graficar histogramas\n",
    "def graficar_histogramas(df, columnas, title_prefix='Histograma de'):\n",
    "    plt.figure(figsize=(12, 10))\n",
    "    for i, col in enumerate(columnas, 1):\n",
    "        plt.subplot(5, 2, i)\n",
    "        plt.hist(df[col], bins=30, color='blue', edgecolor='black')\n",
    "        plt.title(f'{title_prefix} {col}')\n",
    "        plt.xlabel(col)\n",
    "        plt.ylabel('Frecuencia')\n",
    "    plt.tight_layout()\n",
    "    plt.show()"
   ]
  },
  {
   "cell_type": "markdown",
   "metadata": {},
   "source": [
    "### Aplicar transformaciones"
   ]
  },
  {
   "cell_type": "code",
   "execution_count": null,
   "metadata": {},
   "outputs": [],
   "source": [
    "# Función para aplicar transformaciones logarítmicas y de raíz cuadrada\n",
    "def aplicar_transformaciones(df, log_columns, sqrt_columns):\n",
    "    for col in log_columns:\n",
    "        df[col] = np.log1p(df[col])\n",
    "    for col in sqrt_columns:\n",
    "        df[f'sqrt_{col}'] = np.sqrt(df[col])\n",
    "    return df"
   ]
  },
  {
   "cell_type": "markdown",
   "metadata": {},
   "source": [
    "### Graficar Boxplots de las variables numéricas seleccionadas"
   ]
  },
  {
   "cell_type": "code",
   "execution_count": null,
   "metadata": {},
   "outputs": [],
   "source": [
    "# Función para graficar boxplots\n",
    "def graficar_boxplots(df, columnas):\n",
    "    n_cols = 5\n",
    "    n_rows = (len(columnas) + n_cols - 1) // n_cols\n",
    "    fig, axes = plt.subplots(n_rows, n_cols, figsize=(15, 15))\n",
    "    for i, col in enumerate(columnas):\n",
    "        row = i // n_cols\n",
    "        col_num = i % n_cols\n",
    "        sns.boxplot(data=df, y=col, ax=axes[row, col_num], color=\"skyblue\")\n",
    "        axes[row, col_num].set_title(f'Boxplot de {col}')\n",
    "    for j in range(i + 1, n_rows * n_cols):\n",
    "        fig.delaxes(axes.flatten()[j])\n",
    "    plt.tight_layout()\n",
    "    plt.show()"
   ]
  },
  {
   "cell_type": "markdown",
   "metadata": {},
   "source": [
    "### Reemplazamos valores faltantes"
   ]
  },
  {
   "cell_type": "code",
   "execution_count": null,
   "metadata": {},
   "outputs": [],
   "source": [
    "# Función para reemplazar outliers con NaN utilizando el IQR\n",
    "def replace_outliers_with_nan(df, column):\n",
    "    Q1 = df[column].quantile(0.25)\n",
    "    Q3 = df[column].quantile(0.75)\n",
    "    IQR = Q3 - Q1\n",
    "    lower_bound = Q1 - 1.5 * IQR\n",
    "    upper_bound = Q3 + 1.5 * IQR\n",
    "    df[column] = df[column].apply(lambda x: x if lower_bound <= x <= upper_bound else np.nan)"
   ]
  },
  {
   "cell_type": "markdown",
   "metadata": {},
   "source": [
    "### Graficar Barras"
   ]
  },
  {
   "cell_type": "code",
   "execution_count": null,
   "metadata": {},
   "outputs": [],
   "source": [
    "# Función para graficar barras de variables categóricas\n",
    "def graficar_barras(df, columnas):\n",
    "    n_cols = 5\n",
    "    n_rows = (len(columnas) + n_cols - 1) // n_cols\n",
    "    fig, axes = plt.subplots(n_rows, n_cols, figsize=(20, 15))\n",
    "    fig.tight_layout(pad=5.0)\n",
    "    for i, col in enumerate(columnas):\n",
    "        row = i // n_cols\n",
    "        col_num = i % n_cols\n",
    "        values = df[col].value_counts()\n",
    "        axes[row, col_num].bar(values.index, values.values, color=\"blue\")\n",
    "        axes[row, col_num].set_title(f'Frecuencia de {col}')\n",
    "        axes[row, col_num].tick_params(axis='x', rotation=45)\n",
    "    for j in range(i + 1, n_rows * n_cols):\n",
    "        fig.delaxes(axes.flatten()[j])\n",
    "        plt.show()"
   ]
  },
  {
   "cell_type": "markdown",
   "metadata": {},
   "source": [
    "### Matríz de correlación"
   ]
  },
  {
   "cell_type": "code",
   "execution_count": null,
   "metadata": {},
   "outputs": [],
   "source": [
    "# Función para calcular y mostrar la matriz de correlación\n",
    "def mostrar_correlacion(df, columnas, target_col):\n",
    "    correlation_matrix = df[columnas].corr()\n",
    "    target_corr = correlation_matrix[[target_col]]\n",
    "    print(target_corr)"
   ]
  },
  {
   "cell_type": "markdown",
   "metadata": {},
   "source": [
    "### Llamado de funciones"
   ]
  },
  {
   "cell_type": "code",
   "execution_count": null,
   "metadata": {},
   "outputs": [],
   "source": [
    "# Ejemplo de uso\n",
    "path = '../data/raw/bone-marrow.csv'\n",
    "bmtch_df = cargar_datos(path)\n",
    "bmtch_df_copy = crear_copia(bmtch_df)\n",
    "mostrar_valores_faltantes(bmtch_df_copy)\n",
    "\n",
    "# Listas de columnas a imputar\n",
    "columnas_moda = ['RecipientABO', 'RecipientRh', 'ABOmatch', 'CMVstatus', 'DonorCMV', 'RecipientCMV', 'Antigen', 'Allele', 'extcGvHD']\n",
    "columnas_mediana = ['CD3dCD34', 'CD3dkgx10d8', 'Rbodymass']\n",
    "bmtch_df_copy = imputar_valores(bmtch_df_copy, columnas_moda, columnas_mediana)\n",
    "\n",
    "# Diccionario de reglas de error\n",
    "error_rules = {\n",
    "    'Recipientgender': lambda x: x in [0, 1],  # 0: Femenino, 1: Masculino\n",
    "    'Stemcellsource': lambda x: x in [0, 1],  # 0: Sangre periférica, 1: Médula ósea\n",
    "    'Donorage': lambda x:  (0 <= x <= 120),  # Edad del donante fuera del rango\n",
    "    'Donorage35': lambda x: x in [0, 1],  # Edad del donante fuera del rango\n",
    "    'IIIV': lambda x: x in [0, 1],  # Clasificación del trasplante entre I y IV\n",
    "    'Gendermatch': lambda x: x in [0, 1],  # 0: No compatible, 1: Compatible\n",
    "    'DonorABO': lambda x: x in [-1, 0, 1, 2],  # -1: B, 0: O, 1: A, 2: AB\n",
    "    'RecipientABO': lambda x: x in [-1, 0, 1, 2],  # -1: B, 0: O, 1: A, 2: AB\n",
    "    'RecipientRh': lambda x: x in [0, 1],  # 0: Rh-, 1: Rh+\n",
    "    'ABOmatch': lambda x: x in [0, 1],  # 0: Mismatched, 1: Matched\n",
    "    'CMVstatus': lambda x: x in [0, 1, 2, 3],  # Presencia/ausencia de CMV y otros estados\n",
    "    'DonorCMV': lambda x: x in [0, 1],  # 0: Negativo, 1: Positivo\n",
    "    'RecipientCMV': lambda x: x in [0, 1],  # 0: Negativo, 1: Positivo\n",
    "    'Disease': lambda x: x in ['ALL', 'AML', 'chronic', 'nonmalignant', 'lymphoma'],  # Tipos de enfermedad\n",
    "    'Riskgroup': lambda x: x in [0, 1],  # 0: Bajo, 1: Alto\n",
    "    'Txpostrelapse': lambda x: x in [0, 1],  # 0: No, 1: Sí (trasplante tras recaída)\n",
    "    'Diseasegroup': lambda x: x in [0, 1],  # 0: No maligna, 1: Maligna\n",
    "    'HLAmatch': lambda x: x in [0, 1, 2, 3],  # Compatibilidad HLA 7/10 a 10/10\n",
    "    'HLAmismatch': lambda x: x in [0, 1],  # 0: Compatible, 1: No compatible\n",
    "    'Antigen': lambda x: x  in [-1, 0, 1, 2],  # Diferencia de antígenos entre donante y receptor\n",
    "    'Allele': lambda x: x  in [-1, 0, 1, 2, 3],  # Diferencia de alelos entre donante y receptor\n",
    "    'HLAgrI': lambda x:  (0 <= x <= 5),  # Grado de diferencia HLA (fuera de rango)\n",
    "    'Recipientage': lambda x:  (0 <= x <= 120),  # Edad del receptor fuera de rango\n",
    "    'Recipientage10': lambda x: x in [0, 1],  # 0: >= 10 años, 1: < 10 años\n",
    "    'Recipientageint': lambda x: x in [0, 1, 2],  # Edad del receptor discretizada en intervalos\n",
    "    'Relapse': lambda x: x in [0, 1],  # 0: No, 1: Sí (recaída)\n",
    "    'aGvHDIIIIV': lambda x: x in [0, 1, 2, 3],  # Grado de GvHD aguda entre 0 y IV\n",
    "    'extcGvHD': lambda x: x in [0, 1],  # 0: No, 1: Sí (GvHD crónica extensa)\n",
    "    'CD34kgx10d6': lambda x:  (0 <= x <= 60),  # Dosis de CD34+ fuera de rango\n",
    "    'CD3dCD34': lambda x:  (0 <= x <= 100),  # Relación CD3/CD34 fuera de rango\n",
    "    'CD3dkgx10d8': lambda x:  (0 <= x <= 21),  # Dosis de CD3+ fuera de rango\n",
    "    'Rbodymass': lambda x:  (6 <= x <= 104),  # Masa corporal del receptor fuera de rango\n",
    "    'ANCrecovery': lambda x:  (7 <= x <= 30),  # Tiempo de recuperación de neutrófilos fuera de rango\n",
    "    'PLTrecovery': lambda x:  (0 <= x <= 365),  # Tiempo de recuperación de plaquetas fuera de rango\n",
    "    'time_to_aGvHD_III_IV': lambda x:  (0 <= x <= 365),  # Tiempo en días hasta GvHD aguda\n",
    "    'survival_time': lambda x:  (0 <= x <= 4000),  # Tiempo de supervivencia fuera de rango\n",
    "    'survival_status': lambda x: x in [0, 1],  # 0: Vivo, 1: Fallecido\n",
    "}\n",
    "\n",
    "# Eliminar valores erróneos e imputar 'time_to_aGvHD_III_IV'\n",
    "bmtch_df_clean = eliminar_e_imputar(bmtch_df_copy, error_rules)\n",
    "\n",
    "# Graficar histogramas\n",
    "selected_columns = ['Donorage', 'Recipientage', 'Rbodymass', 'CD34kgx10d6', 'CD3dkgx10d8', 'CD3dCD34', 'ANCrecovery', 'PLTrecovery', 'time_to_aGvHD_III_IV', 'survival_time']\n",
    "graficar_histogramas(bmtch_df_clean, selected_columns)\n",
    "\n",
    "# Aplicar transformaciones\n",
    "log_columns = ['Rbodymass', 'CD34kgx10d6', 'CD3dkgx10d8', 'CD3dCD34', 'ANCrecovery', 'PLTrecovery']\n",
    "sqrt_columns = ['time_to_aGvHD_III_IV', 'survival_time']\n",
    "bmtch_df_clean = aplicar_transformaciones(bmtch_df_clean, log_columns, sqrt_columns)\n",
    "\n",
    "# Graficar boxplots\n",
    "graficar_boxplots(bmtch_df_clean, selected_columns)\n",
    "\n",
    "# Reemplazar outliers\n",
    "columns_to_clean = ['Rbodymass', 'CD34kgx10d6', 'CD3dkgx10d8', 'CD3dCD34', 'ANCrecovery', 'PLTrecovery', 'time_to_aGvHD_III_IV', 'survival_time']\n",
    "for col in columns_to_clean:\n",
    "    replace_outliers_with_nan(bmtch_df_clean, col)\n",
    "\n",
    "# Graficar barras para variables categóricas\n",
    "categorical_columns = ['Recipientgender', 'Stemcellsource', 'Donorage35', 'IIIV', 'Gendermatch']\n",
    "graficar_barras(bmtch_df_clean, categorical_columns)\n",
    "\n",
    "# Mostrar correlación\n",
    "correlacion_columnas = ['Donorage', 'Recipientage', 'Rbodymass', 'CD34kgx10d6', 'CD3dkgx10d8', 'CD3dCD34', 'ANCrecovery', 'PLTrecovery', 'time_to_aGvHD_III_IV', 'survival_time']\n",
    "mostrar_correlacion(bmtch_df_clean, correlacion_columnas, 'survival_time')"
   ]
  }
 ],
 "metadata": {
  "language_info": {
   "name": "python"
  }
 },
 "nbformat": 4,
 "nbformat_minor": 2
}
