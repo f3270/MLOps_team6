{
 "cells": [
  {
   "cell_type": "code",
   "execution_count": null,
   "metadata": {},
   "outputs": [],
   "source": [
    "import pandas as pd\n",
    "import numpy as np\n",
    "import seaborn as sns\n",
    "import matplotlib.pyplot as plt\n",
    "from sklearn.preprocessing import StandardScaler\n",
    "from sklearn.model_selection import train_test_split, cross_val_score\n",
    "\n",
    "# Instala la librería ucimlrepo y otras dependencias\n",
    "!pip install ucimlrepo\n",
    "!pip install matplotlib seaborn\n",
    "\n",
    "from ucimlrepo import fetch_ucirepo"
   ]
  },
  {
   "cell_type": "markdown",
   "metadata": {},
   "source": [
    "### Cargar los datos desde el repositorio UCI"
   ]
  },
  {
   "cell_type": "code",
   "execution_count": null,
   "metadata": {},
   "outputs": [],
   "source": [
    "# Función para cargar los datos del conjunto de datos UCI con ID 565\n",
    "def load_data():\n",
    "    bmtch = fetch_ucirepo(id=565)\n",
    "    X = bmtch.data.features\n",
    "    y = bmtch.data.targets\n",
    "    data = pd.concat([X, y], axis=1)\n",
    "    return data, bmtch"
   ]
  },
  {
   "cell_type": "markdown",
   "metadata": {},
   "source": [
    "### Exploración inicial de los datos"
   ]
  },
  {
   "cell_type": "code",
   "execution_count": null,
   "metadata": {},
   "outputs": [],
   "source": [
    "# Explora los datos cargados\n",
    "def explore_data(data, metadata):\n",
    "    print(data.head().T)\n",
    "    print(data.describe())\n",
    "    print(data.info())\n",
    "    print(\"Metadata:\", metadata)"
   ]
  },
  {
   "cell_type": "markdown",
   "metadata": {},
   "source": [
    "### Imputación de valores faltantes en las columnas"
   ]
  },
  {
   "cell_type": "code",
   "execution_count": null,
   "metadata": {},
   "outputs": [],
   "source": [
    "# Imputación de valores\n",
    "def imputar_valores(data):\n",
    "    columnas_moda = ['RecipientABO', 'RecipientRh', 'ABOmatch', 'CMVstatus', 'DonorCMV', 'RecipientCMV', 'Antigen', 'Allele', 'extcGvHD']\n",
    "    columnas_mediana = ['CD3dCD34', 'CD3dkgx10d8', 'Rbodymass']\n",
    "    \n",
    "    for col in columnas_moda:\n",
    "        data[col].fillna(data[col].mode()[0], inplace=True)\n",
    "    \n",
    "    for col in columnas_mediana:\n",
    "        data[col].fillna(data[col].median(), inplace=True)\n",
    "    \n",
    "    return data"
   ]
  },
  {
   "cell_type": "markdown",
   "metadata": {},
   "source": [
    "### Detección de valores erróneos"
   ]
  },
  {
   "cell_type": "code",
   "execution_count": null,
   "metadata": {},
   "outputs": [],
   "source": [
    "# Detección de valores erróneos según reglas predefinidas\n",
    "def detect_errors(df, column, rule):\n",
    "    return df[~df[column].apply(rule)]"
   ]
  },
  {
   "cell_type": "markdown",
   "metadata": {},
   "source": [
    "### Eliminación de valores erróneos e imputación de la columna específica"
   ]
  },
  {
   "cell_type": "code",
   "execution_count": null,
   "metadata": {},
   "outputs": [],
   "source": [
    "# Función para eliminar valores erróneos y realizar imputación\n",
    "def eliminar_e_imputar(data, error_rules):\n",
    "    indices_a_eliminar = []\n",
    "    for col, rule in error_rules.items():\n",
    "        if col != 'time_to_aGvHD_III_IV':\n",
    "            errores = detect_errors(data, col, rule)\n",
    "            indices_a_eliminar.extend(errores.index.tolist())\n",
    "    \n",
    "    data.drop(index=set(indices_a_eliminar), inplace=True)\n",
    "    mediana_aGvHD = data.loc[data['time_to_aGvHD_III_IV'] != 1000000, 'time_to_aGvHD_III_IV'].median()\n",
    "    data['time_to_aGvHD_III_IV'].replace(1000000, mediana_aGvHD, inplace=True)\n",
    "    return data"
   ]
  },
  {
   "cell_type": "markdown",
   "metadata": {},
   "source": [
    "### Graficar histogramas de las variables numéricas seleccionadas"
   ]
  },
  {
   "cell_type": "code",
   "execution_count": null,
   "metadata": {},
   "outputs": [],
   "source": [
    "# Graficar histogramas para las variables seleccionadas\n",
    "def plot_histograms(data, selected_columns):\n",
    "    plt.figure(figsize=(12, 10))\n",
    "    for i, col in enumerate(selected_columns, 1):\n",
    "        plt.subplot(5, 2, i)\n",
    "        plt.hist(data[col], bins=30, color='blue', edgecolor='black')\n",
    "        plt.title(f'Histograma de {col}')\n",
    "        plt.xlabel(col)\n",
    "        plt.ylabel('Frecuencia')\n",
    "    plt.tight_layout()\n",
    "    plt.show()"
   ]
  },
  {
   "cell_type": "markdown",
   "metadata": {},
   "source": [
    "### Graficar Boxplots de las variables numéricas seleccionadas"
   ]
  },
  {
   "cell_type": "code",
   "execution_count": null,
   "metadata": {},
   "outputs": [],
   "source": [
    "# Graficar Boxplots para las variables seleccionadas\n",
    "def plot_boxplots(data, selected_columns):\n",
    "    plt.figure(figsize=(15, 15))\n",
    "    n_cols = 5\n",
    "    n_rows = (len(selected_columns) + n_cols - 1) // n_cols\n",
    "    fig, axes = plt.subplots(n_rows, n_cols, figsize=(15, 15))\n",
    "    \n",
    "    for i, col in enumerate(selected_columns):\n",
    "        row = i // n_cols\n",
    "        col_num = i % n_cols\n",
    "        sns.boxplot(data=data, y=col, ax=axes[row, col_num], color=\"skyblue\")\n",
    "        axes[row, col_num].set_title(f'Boxplot de {col}')\n",
    "    \n",
    "    for j in range(i + 1, n_rows * n_cols):\n",
    "        fig.delaxes(axes.flatten()[j])\n",
    "    \n",
    "    plt.tight_layout()\n",
    "    plt.show()"
   ]
  },
  {
   "cell_type": "markdown",
   "metadata": {},
   "source": [
    "### Graficar la matriz de correlación entre variables"
   ]
  },
  {
   "cell_type": "code",
   "execution_count": null,
   "metadata": {},
   "outputs": [],
   "source": [
    "# Graficar la matriz de correlación\n",
    "def plot_correlation_matrix(data, selected_columns):\n",
    "    plt.figure(figsize=(12, 8))\n",
    "    sns.heatmap(data[selected_columns].corr(), annot=True, fmt=\".2f\", cmap='coolwarm')\n",
    "    plt.show()"
   ]
  },
  {
   "cell_type": "markdown",
   "metadata": {},
   "source": [
    "### Ejecución del pipeline de limpieza y visualización de datos"
   ]
  },
  {
   "cell_type": "code",
   "execution_count": null,
   "metadata": {},
   "outputs": [],
   "source": [
    "# Main function\n",
    "def main():\n",
    "    data, bmtch = load_data()\n",
    "    explore_data(data, bmtch.metadata)\n",
    "\n",
    "    data = imputar_valores(data)\n",
    "\n",
    "    # Reglas de error completas\n",
    "    error_rules = {\n",
    "        'Recipientgender': lambda x: x in [0, 1],  # 0: Femenino, 1: Masculino\n",
    "        'Stemcellsource': lambda x: x in [0, 1],  # 0: Sangre periférica, 1: Médula ósea\n",
    "        'Donorage': lambda x: (0 <= x <= 120),  # Edad del donante fuera del rango\n",
    "        'Donorage35': lambda x: x in [0, 1],  # Edad del donante fuera del rango\n",
    "        'IIIV': lambda x: x in [0, 1],  # Clasificación del trasplante entre I y IV\n",
    "        'Gendermatch': lambda x: x in [0, 1],  # 0: No compatible, 1: Compatible\n",
    "        'DonorABO': lambda x: x in [-1, 0, 1, 2],  # -1: B, 0: O, 1: A, 2: AB\n",
    "        'RecipientABO': lambda x: x in [-1, 0, 1, 2],  # -1: B, 0: O, 1: A, 2: AB\n",
    "        'RecipientRh': lambda x: x in [0, 1],  # 0: Rh-, 1: Rh+\n",
    "        'ABOmatch': lambda x: x in [0, 1],  # 0: Mismatched, 1: Matched\n",
    "        'CMVstatus': lambda x: x in [0, 1, 2, 3],  # Presencia/ausencia de CMV y otros estados\n",
    "        'DonorCMV': lambda x: x in [0, 1],  # 0: Negativo, 1: Positivo\n",
    "        'RecipientCMV': lambda x: x in [0, 1],  # 0: Negativo, 1: Positivo\n",
    "        'Disease': lambda x: x in ['ALL', 'AML', 'chronic', 'nonmalignant', 'lymphoma'],  # Tipos de enfermedad\n",
    "        'Riskgroup': lambda x: x in [0, 1],  # 0: Bajo, 1: Alto\n",
    "        'Txpostrelapse': lambda x: x in [0, 1],  # 0: No, 1: Sí (trasplante tras recaída)\n",
    "        'Diseasegroup': lambda x: x in [0, 1],  # 0: No maligna, 1: Maligna\n",
    "        'HLAmatch': lambda x: x in [0, 1, 2, 3],  # Compatibilidad HLA 7/10 a 10/10\n",
    "        'HLAmismatch': lambda x: x in [0, 1],  # 0: Compatible, 1: No compatible\n",
    "        'Antigen': lambda x: x in [-1, 0, 1, 2],  # Diferencia de antígenos entre donante y receptor\n",
    "        'Allele': lambda x: x in [-1, 0, 1, 2, 3],  # Diferencia de alelos entre donante y receptor\n",
    "        'HLAgrI': lambda x: (0 <= x <= 5),  # Grado de diferencia HLA (fuera de rango)\n",
    "        'Recipientage': lambda x: (0 <= x <= 120),  # Edad del receptor fuera de rango\n",
    "        'Recipientage10': lambda x: x in [0, 1],  # 0: >= 10 años, 1: < 10 años\n",
    "        'Recipientageint': lambda x: x in [0, 1, 2],  # Edad del receptor discretizada en intervalos\n",
    "        'Relapse': lambda x: x in [0, 1],  # 0: No, 1: Sí (recaída)\n",
    "        'aGvHDIIIIV': lambda x: x in [0, 1, 2, 3],  # Grado de GvHD aguda entre 0 y IV\n",
    "        'extcGvHD': lambda x: x in [0, 1],  # 0: No, 1: Sí (GvHD crónica extensa)\n",
    "        'CD34kgx10d6': lambda x: (0 <= x <= 60),  # Dosis de CD34+ fuera de rango\n",
    "        'CD3dCD34': lambda x: (0 <= x <= 100),  # Relación CD3/CD34 fuera de rango\n",
    "        'CD3dkgx10d8': lambda x: (0 <= x <= 21),  # Dosis de CD3+ fuera de rango\n",
    "        'Rbodymass': lambda x: (6 <= x <= 104),  # Masa corporal del receptor fuera de rango\n",
    "        'ANCrecovery': lambda x: (7 <= x <= 30),  # Tiempo de recuperación de neutrófilos fuera de rango\n",
    "        'PLTrecovery': lambda x: (0 <= x <= 365),  # Tiempo de recuperación de plaquetas fuera de rango\n",
    "        'time_to_aGvHD_III_IV': lambda x: (0 <= x <= 365),  # Tiempo en días hasta GvHD aguda\n",
    "        'survival_time': lambda x: (0 <= x <= 4000),  # Tiempo de supervivencia fuera de rango\n",
    "        'survival_status': lambda x: x in [0, 1],  # 0: Vivo, 1: Fallecido\n",
    "    }\n",
    "\n",
    "    data = eliminar_e_imputar(data, error_rules)\n",
    "\n",
    "    selected_columns = ['Donorage', 'Recipientage', 'Rbodymass', 'CD34kgx10d6', 'CD3dkgx10d8',\n",
    "                        'CD3dCD34', 'ANCrecovery', 'PLTrecovery', 'time_to_aGvHD_III_IV', 'survival_time']\n",
    "\n",
    "    plot_histograms(data, selected_columns)\n",
    "    plot_boxplots(data, selected_columns)\n",
    "    plot_correlation_matrix(data, selected_columns)\n",
    "\n",
    "main()"
   ]
  }
 ],
 "metadata": {
  "language_info": {
   "name": "python"
  }
 },
 "nbformat": 4,
 "nbformat_minor": 2
}
